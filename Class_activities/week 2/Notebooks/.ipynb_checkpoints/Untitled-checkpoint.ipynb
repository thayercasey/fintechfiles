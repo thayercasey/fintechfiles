{
 "cells": [
  {
   "cell_type": "code",
   "execution_count": null,
   "id": "61ab25f8-8d8e-4905-8a09-8c36ce307f98",
   "metadata": {},
   "outputs": [],
   "source": [
    " #Import Required Libraries\n",
    "import pandas as pd"
   ]
  }
 ],
 "metadata": {
  "kernelspec": {
   "display_name": "Python (dev)",
   "language": "python",
   "name": "dev"
  },
  "language_info": {
   "codemirror_mode": {
    "name": "ipython",
    "version": 3
   },
   "file_extension": ".py",
   "mimetype": "text/x-python",
   "name": "python",
   "nbconvert_exporter": "python",
   "pygments_lexer": "ipython3",
   "version": "3.7.10"
  }
 },
 "nbformat": 4,
 "nbformat_minor": 5
}
