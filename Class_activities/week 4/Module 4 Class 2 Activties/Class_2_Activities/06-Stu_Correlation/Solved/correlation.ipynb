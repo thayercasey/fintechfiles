{
 "cells": [
  {
   "cell_type": "markdown",
   "metadata": {},
   "source": [
    "# Correlation\n",
    "\n",
    "Use the Pandas library to analyze five semiconductor stocks  stocks—`INTC`, `AMD`, `MU`, `NVDA`, and `TSM`—and choose the stock with the least correlation to `JNJ` and `HD`.\n",
    "\n",
    "The reason to choose stocks that are less correlated to other stocks is to diversify a portfolio.\n",
    "\n",
    "Go [here](https://www.investopedia.com/terms/d/diversification.asp) to learn more about diversification and how correlation among stocks in portfolios are a factor in minimizing risk."
   ]
  },
  {
   "cell_type": "markdown",
   "metadata": {},
   "source": [
    "## 1. Import libraries and dependencies.\n",
    "  - Import the `pandas`,`seaborn` and `pathlib` libraries, and set the `%matplotlib inline` property.\n"
   ]
  },
  {
   "cell_type": "code",
   "execution_count": 1,
   "metadata": {},
   "outputs": [],
   "source": [
    "# Import libraries and dependencies\n",
    "import pandas as pd\n",
    "from pathlib import Path\n",
    "import seaborn as sns\n",
    "%matplotlib inline"
   ]
  },
  {
   "cell_type": "markdown",
   "metadata": {},
   "source": [
    "## 2. Create `Path` Objects\n",
    "   - Create a path objects for each `csv` file using the `Pathlib` library."
   ]
  },
  {
   "cell_type": "code",
   "execution_count": 2,
   "metadata": {},
   "outputs": [],
   "source": [
    "# Set file paths\n",
    "hd_data = Path(\"../Resources/HD.csv\")\n",
    "jnj_data = Path(\"../Resources/JNJ.csv\")\n",
    "intc_data = Path(\"../Resources/INTC.csv\")\n",
    "amd_data = Path(\"../Resources/AMD.csv\")\n",
    "mu_data = Path(\"../Resources/MU.csv\")\n",
    "nvda_data = Path(\"../Resources/NVDA.csv\")\n",
    "tsm_data = Path(\"../Resources/TSM.csv\")"
   ]
  },
  {
   "cell_type": "markdown",
   "metadata": {},
   "source": [
    "## 3. Read the `CSV` files into a `Pandas` DataFrames.\n",
    "  - Read the `CSV` files into a `DataFrame` and set the `date` column as the index."
   ]
  },
  {
   "cell_type": "code",
   "execution_count": 3,
   "metadata": {},
   "outputs": [
    {
     "data": {
      "text/html": [
       "<div>\n",
       "<style scoped>\n",
       "    .dataframe tbody tr th:only-of-type {\n",
       "        vertical-align: middle;\n",
       "    }\n",
       "\n",
       "    .dataframe tbody tr th {\n",
       "        vertical-align: top;\n",
       "    }\n",
       "\n",
       "    .dataframe thead th {\n",
       "        text-align: right;\n",
       "    }\n",
       "</style>\n",
       "<table border=\"1\" class=\"dataframe\">\n",
       "  <thead>\n",
       "    <tr style=\"text-align: right;\">\n",
       "      <th></th>\n",
       "      <th>INTC</th>\n",
       "    </tr>\n",
       "    <tr>\n",
       "      <th>date</th>\n",
       "      <th></th>\n",
       "    </tr>\n",
       "  </thead>\n",
       "  <tbody>\n",
       "    <tr>\n",
       "      <th>2019-05-14</th>\n",
       "      <td>45.17</td>\n",
       "    </tr>\n",
       "    <tr>\n",
       "      <th>2019-05-13</th>\n",
       "      <td>44.76</td>\n",
       "    </tr>\n",
       "    <tr>\n",
       "      <th>2019-05-10</th>\n",
       "      <td>46.20</td>\n",
       "    </tr>\n",
       "    <tr>\n",
       "      <th>2019-05-09</th>\n",
       "      <td>46.62</td>\n",
       "    </tr>\n",
       "    <tr>\n",
       "      <th>2019-05-08</th>\n",
       "      <td>49.24</td>\n",
       "    </tr>\n",
       "  </tbody>\n",
       "</table>\n",
       "</div>"
      ],
      "text/plain": [
       "             INTC\n",
       "date             \n",
       "2019-05-14  45.17\n",
       "2019-05-13  44.76\n",
       "2019-05-10  46.20\n",
       "2019-05-09  46.62\n",
       "2019-05-08  49.24"
      ]
     },
     "execution_count": 3,
     "metadata": {},
     "output_type": "execute_result"
    }
   ],
   "source": [
    "# Read the individual CSV datasets\n",
    "hd = pd.read_csv(hd_data, index_col=\"date\", parse_dates=True, infer_datetime_format=True)\n",
    "jnj = pd.read_csv(jnj_data, index_col=\"date\", parse_dates=True, infer_datetime_format=True)\n",
    "intc = pd.read_csv(intc_data, index_col=\"date\", parse_dates=True, infer_datetime_format=True)\n",
    "amd = pd.read_csv(amd_data, index_col=\"date\", parse_dates=True, infer_datetime_format=True)\n",
    "mu = pd.read_csv(mu_data, index_col=\"date\", parse_dates=True, infer_datetime_format=True)\n",
    "nvda = pd.read_csv(nvda_data, index_col=\"date\", parse_dates=True, infer_datetime_format=True)\n",
    "tsm = pd.read_csv(tsm_data, index_col=\"date\", parse_dates=True, infer_datetime_format=True)\n",
    "\n",
    "intc.head()"
   ]
  },
  {
   "cell_type": "markdown",
   "metadata": {},
   "source": [
    "## 4. Combine the DataFrames\n",
    "  - Use the `concat` function to combine the seven DataFrames into a single combined DataFrame"
   ]
  },
  {
   "cell_type": "code",
   "execution_count": 4,
   "metadata": {},
   "outputs": [
    {
     "data": {
      "text/html": [
       "<div>\n",
       "<style scoped>\n",
       "    .dataframe tbody tr th:only-of-type {\n",
       "        vertical-align: middle;\n",
       "    }\n",
       "\n",
       "    .dataframe tbody tr th {\n",
       "        vertical-align: top;\n",
       "    }\n",
       "\n",
       "    .dataframe thead th {\n",
       "        text-align: right;\n",
       "    }\n",
       "</style>\n",
       "<table border=\"1\" class=\"dataframe\">\n",
       "  <thead>\n",
       "    <tr style=\"text-align: right;\">\n",
       "      <th></th>\n",
       "      <th>JNJ</th>\n",
       "      <th>HD</th>\n",
       "      <th>INTC</th>\n",
       "      <th>AMD</th>\n",
       "      <th>MU</th>\n",
       "      <th>NVDA</th>\n",
       "      <th>TSM</th>\n",
       "    </tr>\n",
       "    <tr>\n",
       "      <th>date</th>\n",
       "      <th></th>\n",
       "      <th></th>\n",
       "      <th></th>\n",
       "      <th></th>\n",
       "      <th></th>\n",
       "      <th></th>\n",
       "      <th></th>\n",
       "    </tr>\n",
       "  </thead>\n",
       "  <tbody>\n",
       "    <tr>\n",
       "      <th>2019-05-14</th>\n",
       "      <td>66.97</td>\n",
       "      <td>191.62</td>\n",
       "      <td>45.17</td>\n",
       "      <td>27.32</td>\n",
       "      <td>38.51</td>\n",
       "      <td>162.04</td>\n",
       "      <td>41.97</td>\n",
       "    </tr>\n",
       "    <tr>\n",
       "      <th>2019-05-13</th>\n",
       "      <td>66.49</td>\n",
       "      <td>190.34</td>\n",
       "      <td>44.76</td>\n",
       "      <td>26.24</td>\n",
       "      <td>37.38</td>\n",
       "      <td>158.45</td>\n",
       "      <td>40.99</td>\n",
       "    </tr>\n",
       "    <tr>\n",
       "      <th>2019-05-10</th>\n",
       "      <td>67.22</td>\n",
       "      <td>194.58</td>\n",
       "      <td>46.20</td>\n",
       "      <td>27.96</td>\n",
       "      <td>38.94</td>\n",
       "      <td>168.82</td>\n",
       "      <td>42.83</td>\n",
       "    </tr>\n",
       "    <tr>\n",
       "      <th>2019-05-09</th>\n",
       "      <td>66.04</td>\n",
       "      <td>194.58</td>\n",
       "      <td>46.62</td>\n",
       "      <td>27.21</td>\n",
       "      <td>39.27</td>\n",
       "      <td>170.19</td>\n",
       "      <td>43.25</td>\n",
       "    </tr>\n",
       "    <tr>\n",
       "      <th>2019-05-08</th>\n",
       "      <td>66.02</td>\n",
       "      <td>195.17</td>\n",
       "      <td>49.24</td>\n",
       "      <td>27.09</td>\n",
       "      <td>39.75</td>\n",
       "      <td>173.92</td>\n",
       "      <td>43.70</td>\n",
       "    </tr>\n",
       "  </tbody>\n",
       "</table>\n",
       "</div>"
      ],
      "text/plain": [
       "              JNJ      HD   INTC    AMD     MU    NVDA    TSM\n",
       "date                                                         \n",
       "2019-05-14  66.97  191.62  45.17  27.32  38.51  162.04  41.97\n",
       "2019-05-13  66.49  190.34  44.76  26.24  37.38  158.45  40.99\n",
       "2019-05-10  67.22  194.58  46.20  27.96  38.94  168.82  42.83\n",
       "2019-05-09  66.04  194.58  46.62  27.21  39.27  170.19  43.25\n",
       "2019-05-08  66.02  195.17  49.24  27.09  39.75  173.92  43.70"
      ]
     },
     "execution_count": 4,
     "metadata": {},
     "output_type": "execute_result"
    }
   ],
   "source": [
    "# Use the `concat` function to combine the DataFrames by `date`\n",
    "combined_df = pd.concat([jnj, hd, intc, amd, mu, nvda, tsm], axis=\"columns\", join=\"inner\")\n",
    "combined_df.head()"
   ]
  },
  {
   "cell_type": "markdown",
   "metadata": {},
   "source": [
    "## 5. Calculate Daily Returns\n",
    "  - Use the `pct_change` method to calculate the daily returns and drop `n/a` values"
   ]
  },
  {
   "cell_type": "code",
   "execution_count": 5,
   "metadata": {},
   "outputs": [
    {
     "data": {
      "text/html": [
       "<div>\n",
       "<style scoped>\n",
       "    .dataframe tbody tr th:only-of-type {\n",
       "        vertical-align: middle;\n",
       "    }\n",
       "\n",
       "    .dataframe tbody tr th {\n",
       "        vertical-align: top;\n",
       "    }\n",
       "\n",
       "    .dataframe thead th {\n",
       "        text-align: right;\n",
       "    }\n",
       "</style>\n",
       "<table border=\"1\" class=\"dataframe\">\n",
       "  <thead>\n",
       "    <tr style=\"text-align: right;\">\n",
       "      <th></th>\n",
       "      <th>JNJ</th>\n",
       "      <th>HD</th>\n",
       "      <th>INTC</th>\n",
       "      <th>AMD</th>\n",
       "      <th>MU</th>\n",
       "      <th>NVDA</th>\n",
       "      <th>TSM</th>\n",
       "    </tr>\n",
       "    <tr>\n",
       "      <th>date</th>\n",
       "      <th></th>\n",
       "      <th></th>\n",
       "      <th></th>\n",
       "      <th></th>\n",
       "      <th></th>\n",
       "      <th></th>\n",
       "      <th></th>\n",
       "    </tr>\n",
       "  </thead>\n",
       "  <tbody>\n",
       "    <tr>\n",
       "      <th>2019-05-13</th>\n",
       "      <td>-0.007167</td>\n",
       "      <td>-0.006680</td>\n",
       "      <td>-0.009077</td>\n",
       "      <td>-0.039531</td>\n",
       "      <td>-0.029343</td>\n",
       "      <td>-0.022155</td>\n",
       "      <td>-0.023350</td>\n",
       "    </tr>\n",
       "    <tr>\n",
       "      <th>2019-05-10</th>\n",
       "      <td>0.010979</td>\n",
       "      <td>0.022276</td>\n",
       "      <td>0.032172</td>\n",
       "      <td>0.065549</td>\n",
       "      <td>0.041734</td>\n",
       "      <td>0.065447</td>\n",
       "      <td>0.044889</td>\n",
       "    </tr>\n",
       "    <tr>\n",
       "      <th>2019-05-09</th>\n",
       "      <td>-0.017554</td>\n",
       "      <td>0.000000</td>\n",
       "      <td>0.009091</td>\n",
       "      <td>-0.026824</td>\n",
       "      <td>0.008475</td>\n",
       "      <td>0.008115</td>\n",
       "      <td>0.009806</td>\n",
       "    </tr>\n",
       "    <tr>\n",
       "      <th>2019-05-08</th>\n",
       "      <td>-0.000303</td>\n",
       "      <td>0.003032</td>\n",
       "      <td>0.056199</td>\n",
       "      <td>-0.004410</td>\n",
       "      <td>0.012223</td>\n",
       "      <td>0.021917</td>\n",
       "      <td>0.010405</td>\n",
       "    </tr>\n",
       "    <tr>\n",
       "      <th>2019-05-07</th>\n",
       "      <td>0.004696</td>\n",
       "      <td>-0.002049</td>\n",
       "      <td>0.025183</td>\n",
       "      <td>-0.015873</td>\n",
       "      <td>0.012830</td>\n",
       "      <td>-0.004657</td>\n",
       "      <td>0.001373</td>\n",
       "    </tr>\n",
       "  </tbody>\n",
       "</table>\n",
       "</div>"
      ],
      "text/plain": [
       "                 JNJ        HD      INTC       AMD        MU      NVDA  \\\n",
       "date                                                                     \n",
       "2019-05-13 -0.007167 -0.006680 -0.009077 -0.039531 -0.029343 -0.022155   \n",
       "2019-05-10  0.010979  0.022276  0.032172  0.065549  0.041734  0.065447   \n",
       "2019-05-09 -0.017554  0.000000  0.009091 -0.026824  0.008475  0.008115   \n",
       "2019-05-08 -0.000303  0.003032  0.056199 -0.004410  0.012223  0.021917   \n",
       "2019-05-07  0.004696 -0.002049  0.025183 -0.015873  0.012830 -0.004657   \n",
       "\n",
       "                 TSM  \n",
       "date                  \n",
       "2019-05-13 -0.023350  \n",
       "2019-05-10  0.044889  \n",
       "2019-05-09  0.009806  \n",
       "2019-05-08  0.010405  \n",
       "2019-05-07  0.001373  "
      ]
     },
     "execution_count": 5,
     "metadata": {},
     "output_type": "execute_result"
    }
   ],
   "source": [
    "# Use the `pct_change` function to calculate daily returns for each stock\n",
    "daily_returns = combined_df.pct_change().dropna()\n",
    "daily_returns.head()"
   ]
  },
  {
   "cell_type": "markdown",
   "metadata": {},
   "source": [
    "## 6. Calculate Correlation\n",
    "  -  Use the `corr` function on the combined DataFrame to calculate and output a correlation table of each stock-to-stock pair."
   ]
  },
  {
   "cell_type": "code",
   "execution_count": 6,
   "metadata": {},
   "outputs": [
    {
     "data": {
      "text/html": [
       "<div>\n",
       "<style scoped>\n",
       "    .dataframe tbody tr th:only-of-type {\n",
       "        vertical-align: middle;\n",
       "    }\n",
       "\n",
       "    .dataframe tbody tr th {\n",
       "        vertical-align: top;\n",
       "    }\n",
       "\n",
       "    .dataframe thead th {\n",
       "        text-align: right;\n",
       "    }\n",
       "</style>\n",
       "<table border=\"1\" class=\"dataframe\">\n",
       "  <thead>\n",
       "    <tr style=\"text-align: right;\">\n",
       "      <th></th>\n",
       "      <th>JNJ</th>\n",
       "      <th>HD</th>\n",
       "      <th>INTC</th>\n",
       "      <th>AMD</th>\n",
       "      <th>MU</th>\n",
       "      <th>NVDA</th>\n",
       "      <th>TSM</th>\n",
       "    </tr>\n",
       "  </thead>\n",
       "  <tbody>\n",
       "    <tr>\n",
       "      <th>JNJ</th>\n",
       "      <td>1.000000</td>\n",
       "      <td>0.329386</td>\n",
       "      <td>0.318188</td>\n",
       "      <td>0.254498</td>\n",
       "      <td>0.337060</td>\n",
       "      <td>0.257717</td>\n",
       "      <td>0.317493</td>\n",
       "    </tr>\n",
       "    <tr>\n",
       "      <th>HD</th>\n",
       "      <td>0.329386</td>\n",
       "      <td>1.000000</td>\n",
       "      <td>0.429047</td>\n",
       "      <td>0.294653</td>\n",
       "      <td>0.375932</td>\n",
       "      <td>0.360918</td>\n",
       "      <td>0.393293</td>\n",
       "    </tr>\n",
       "    <tr>\n",
       "      <th>INTC</th>\n",
       "      <td>0.318188</td>\n",
       "      <td>0.429047</td>\n",
       "      <td>1.000000</td>\n",
       "      <td>0.385877</td>\n",
       "      <td>0.511066</td>\n",
       "      <td>0.483262</td>\n",
       "      <td>0.500741</td>\n",
       "    </tr>\n",
       "    <tr>\n",
       "      <th>AMD</th>\n",
       "      <td>0.254498</td>\n",
       "      <td>0.294653</td>\n",
       "      <td>0.385877</td>\n",
       "      <td>1.000000</td>\n",
       "      <td>0.438329</td>\n",
       "      <td>0.471212</td>\n",
       "      <td>0.352482</td>\n",
       "    </tr>\n",
       "    <tr>\n",
       "      <th>MU</th>\n",
       "      <td>0.337060</td>\n",
       "      <td>0.375932</td>\n",
       "      <td>0.511066</td>\n",
       "      <td>0.438329</td>\n",
       "      <td>1.000000</td>\n",
       "      <td>0.517198</td>\n",
       "      <td>0.477247</td>\n",
       "    </tr>\n",
       "    <tr>\n",
       "      <th>NVDA</th>\n",
       "      <td>0.257717</td>\n",
       "      <td>0.360918</td>\n",
       "      <td>0.483262</td>\n",
       "      <td>0.471212</td>\n",
       "      <td>0.517198</td>\n",
       "      <td>1.000000</td>\n",
       "      <td>0.472496</td>\n",
       "    </tr>\n",
       "    <tr>\n",
       "      <th>TSM</th>\n",
       "      <td>0.317493</td>\n",
       "      <td>0.393293</td>\n",
       "      <td>0.500741</td>\n",
       "      <td>0.352482</td>\n",
       "      <td>0.477247</td>\n",
       "      <td>0.472496</td>\n",
       "      <td>1.000000</td>\n",
       "    </tr>\n",
       "  </tbody>\n",
       "</table>\n",
       "</div>"
      ],
      "text/plain": [
       "           JNJ        HD      INTC       AMD        MU      NVDA       TSM\n",
       "JNJ   1.000000  0.329386  0.318188  0.254498  0.337060  0.257717  0.317493\n",
       "HD    0.329386  1.000000  0.429047  0.294653  0.375932  0.360918  0.393293\n",
       "INTC  0.318188  0.429047  1.000000  0.385877  0.511066  0.483262  0.500741\n",
       "AMD   0.254498  0.294653  0.385877  1.000000  0.438329  0.471212  0.352482\n",
       "MU    0.337060  0.375932  0.511066  0.438329  1.000000  0.517198  0.477247\n",
       "NVDA  0.257717  0.360918  0.483262  0.471212  0.517198  1.000000  0.472496\n",
       "TSM   0.317493  0.393293  0.500741  0.352482  0.477247  0.472496  1.000000"
      ]
     },
     "execution_count": 6,
     "metadata": {},
     "output_type": "execute_result"
    }
   ],
   "source": [
    "# Use the `corr` function to calculate correlations for each stock pair\n",
    "correlation = daily_returns.corr()\n",
    "correlation"
   ]
  },
  {
   "cell_type": "markdown",
   "metadata": {},
   "source": [
    "## 7. Plot Correlation\n",
    "  - Use the `heatmap` function from the Seaborn library to create a heatmap of correlation values.\n",
    "  - You can read more about the heatmap method from seaborn on the [documentation page](https://seaborn.pydata.org/generated/seaborn.heatmap.html#seaborn.heatmap)."
   ]
  },
  {
   "cell_type": "code",
   "execution_count": 7,
   "metadata": {},
   "outputs": [
    {
     "data": {
      "text/plain": [
       "<AxesSubplot:>"
      ]
     },
     "execution_count": 7,
     "metadata": {},
     "output_type": "execute_result"
    },
    {
     "data": {
      "image/png": "[encoded data removed]",
      "text/plain": [
       "<Figure size 432x288 with 2 Axes>"
      ]
     },
     "metadata": {
      "needs_background": "light"
     },
     "output_type": "display_data"
    }
   ],
   "source": [
    "# Create a heatmap from the correlation values\n",
    "sns.heatmap(correlation)"
   ]
  },
  {
   "cell_type": "markdown",
   "metadata": {},
   "source": [
    "### Which semiconductor stock would be the best candidate to add to the existing portfolio?"
   ]
  },
  {
   "cell_type": "markdown",
   "metadata": {},
   "source": [
    "`AMD` stock would be the best candidate to add to the existing portfolio as it is the stock that has the least correlation with `JNJ` and `HD`."
   ]
  }
 ],
 "metadata": {
  "kernelspec": {
   "display_name": "Python 3",
   "language": "python",
   "name": "python3"
  },
  "language_info": {
   "codemirror_mode": {
    "name": "ipython",
    "version": 3
   },
   "file_extension": ".py",
   "mimetype": "text/x-python",
   "name": "python",
   "nbconvert_exporter": "python",
   "pygments_lexer": "ipython3",
   "version": "3.7.3"
  }
 },
 "nbformat": 4,
 "nbformat_minor": 4
}
